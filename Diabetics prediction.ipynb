{
 "cells": [
  {
   "cell_type": "code",
   "execution_count": 62,
   "metadata": {},
   "outputs": [
    {
     "data": {
      "text/html": [
       "<div>\n",
       "<style scoped>\n",
       "    .dataframe tbody tr th:only-of-type {\n",
       "        vertical-align: middle;\n",
       "    }\n",
       "\n",
       "    .dataframe tbody tr th {\n",
       "        vertical-align: top;\n",
       "    }\n",
       "\n",
       "    .dataframe thead th {\n",
       "        text-align: right;\n",
       "    }\n",
       "</style>\n",
       "<table border=\"1\" class=\"dataframe\">\n",
       "  <thead>\n",
       "    <tr style=\"text-align: right;\">\n",
       "      <th></th>\n",
       "      <th>Pregnancies</th>\n",
       "      <th>Glucose</th>\n",
       "      <th>BloodPressure</th>\n",
       "      <th>SkinThickness</th>\n",
       "      <th>Insulin</th>\n",
       "      <th>BMI</th>\n",
       "      <th>Age</th>\n",
       "      <th>Outcome</th>\n",
       "    </tr>\n",
       "  </thead>\n",
       "  <tbody>\n",
       "    <tr>\n",
       "      <td>0</td>\n",
       "      <td>6</td>\n",
       "      <td>148</td>\n",
       "      <td>72</td>\n",
       "      <td>35</td>\n",
       "      <td>0</td>\n",
       "      <td>33.6</td>\n",
       "      <td>50</td>\n",
       "      <td>1</td>\n",
       "    </tr>\n",
       "    <tr>\n",
       "      <td>1</td>\n",
       "      <td>1</td>\n",
       "      <td>85</td>\n",
       "      <td>66</td>\n",
       "      <td>29</td>\n",
       "      <td>0</td>\n",
       "      <td>26.6</td>\n",
       "      <td>31</td>\n",
       "      <td>0</td>\n",
       "    </tr>\n",
       "    <tr>\n",
       "      <td>2</td>\n",
       "      <td>8</td>\n",
       "      <td>183</td>\n",
       "      <td>64</td>\n",
       "      <td>0</td>\n",
       "      <td>0</td>\n",
       "      <td>23.3</td>\n",
       "      <td>32</td>\n",
       "      <td>1</td>\n",
       "    </tr>\n",
       "    <tr>\n",
       "      <td>3</td>\n",
       "      <td>1</td>\n",
       "      <td>89</td>\n",
       "      <td>66</td>\n",
       "      <td>23</td>\n",
       "      <td>94</td>\n",
       "      <td>28.1</td>\n",
       "      <td>21</td>\n",
       "      <td>0</td>\n",
       "    </tr>\n",
       "    <tr>\n",
       "      <td>4</td>\n",
       "      <td>0</td>\n",
       "      <td>137</td>\n",
       "      <td>40</td>\n",
       "      <td>35</td>\n",
       "      <td>168</td>\n",
       "      <td>43.1</td>\n",
       "      <td>33</td>\n",
       "      <td>1</td>\n",
       "    </tr>\n",
       "  </tbody>\n",
       "</table>\n",
       "</div>"
      ],
      "text/plain": [
       "   Pregnancies  Glucose  BloodPressure  SkinThickness  Insulin   BMI  Age  \\\n",
       "0            6      148             72             35        0  33.6   50   \n",
       "1            1       85             66             29        0  26.6   31   \n",
       "2            8      183             64              0        0  23.3   32   \n",
       "3            1       89             66             23       94  28.1   21   \n",
       "4            0      137             40             35      168  43.1   33   \n",
       "\n",
       "   Outcome  \n",
       "0        1  \n",
       "1        0  \n",
       "2        1  \n",
       "3        0  \n",
       "4        1  "
      ]
     },
     "execution_count": 62,
     "metadata": {},
     "output_type": "execute_result"
    }
   ],
   "source": [
    "#Loading the DataSet\n",
    "\n",
    "import pandas as pd\n",
    "df=pd.read_csv(\"user_outputs.csv\")\n",
    "df.head()\n"
   ]
  },
  {
   "cell_type": "code",
   "execution_count": 63,
   "metadata": {},
   "outputs": [
    {
     "data": {
      "text/plain": [
       "Pregnancies      0\n",
       "Glucose          0\n",
       "BloodPressure    0\n",
       "SkinThickness    0\n",
       "Insulin          0\n",
       "BMI              0\n",
       "Age              0\n",
       "Outcome          0\n",
       "dtype: int64"
      ]
     },
     "execution_count": 63,
     "metadata": {},
     "output_type": "execute_result"
    }
   ],
   "source": [
    "# Finding missing values if any\n",
    "df.isnull().sum()"
   ]
  },
  {
   "cell_type": "code",
   "execution_count": 64,
   "metadata": {},
   "outputs": [
    {
     "name": "stdout",
     "output_type": "stream",
     "text": [
      "AxesSubplot(0.125,0.125;0.775x0.755)\n"
     ]
    },
    {
     "data": {
      "image/png": "[encoded data removed]",
      "text/plain": [
       "<Figure size 432x288 with 1 Axes>"
      ]
     },
     "metadata": {
      "needs_background": "light"
     },
     "output_type": "display_data"
    }
   ],
   "source": [
    "import matplotlib.pyplot as plt\n",
    "import seaborn as sns\n",
    "\n",
    "temp=df[\"Outcome\"].value_counts()\n",
    "temp_df= pd.DataFrame({'Outcome': temp.index,'values': temp.values})\n",
    "print(sns.barplot(x = 'Outcome', y=\"values\", data=temp_df))"
   ]
  },
  {
   "cell_type": "code",
   "execution_count": 65,
   "metadata": {},
   "outputs": [
    {
     "name": "stdout",
     "output_type": "stream",
     "text": [
      "               Pregnancies   Glucose  BloodPressure  SkinThickness   Insulin  \\\n",
      "Pregnancies       1.000000  0.129674       0.138805      -0.081983 -0.073338   \n",
      "Glucose           0.129674  1.000000       0.149056       0.056714  0.331554   \n",
      "BloodPressure     0.138805  0.149056       1.000000       0.209186  0.086542   \n",
      "SkinThickness    -0.081983  0.056714       0.209186       1.000000  0.436140   \n",
      "Insulin          -0.073338  0.331554       0.086542       0.436140  1.000000   \n",
      "BMI               0.017395  0.220501       0.282452       0.392961  0.197448   \n",
      "Age               0.544290  0.263444       0.237923      -0.113903 -0.042169   \n",
      "Outcome           0.221478  0.465782       0.067718       0.075444  0.130098   \n",
      "\n",
      "                    BMI       Age   Outcome  \n",
      "Pregnancies    0.017395  0.544290  0.221478  \n",
      "Glucose        0.220501  0.263444  0.465782  \n",
      "BloodPressure  0.282452  0.237923  0.067718  \n",
      "SkinThickness  0.392961 -0.113903  0.075444  \n",
      "Insulin        0.197448 -0.042169  0.130098  \n",
      "BMI            1.000000  0.036249  0.293119  \n",
      "Age            0.036249  1.000000  0.238292  \n",
      "Outcome        0.293119  0.238292  1.000000  \n"
     ]
    }
   ],
   "source": [
    "# Fining correlations to ensure that all values effect outcome\n",
    "corr=df.corr()\n",
    "print(corr)"
   ]
  },
  {
   "cell_type": "code",
   "execution_count": 66,
   "metadata": {},
   "outputs": [
    {
     "name": "stdout",
     "output_type": "stream",
     "text": [
      "AxesSubplot(0.125,0.125;0.62x0.755)\n"
     ]
    },
    {
     "data": {
      "image/png": "[encoded data removed]",
      "text/plain": [
       "<Figure size 432x288 with 2 Axes>"
      ]
     },
     "metadata": {
      "needs_background": "light"
     },
     "output_type": "display_data"
    }
   ],
   "source": [
    "# Heatmap for better representation\n",
    "heatmap=sns.heatmap(corr, \n",
    "         xticklabels=corr.columns, \n",
    "         yticklabels=corr.columns)\n",
    "print(heatmap)"
   ]
  },
  {
   "cell_type": "code",
   "execution_count": 67,
   "metadata": {},
   "outputs": [],
   "source": [
    "y=df['Outcome']\n",
    "x=df.drop('Outcome',axis=1)"
   ]
  },
  {
   "cell_type": "code",
   "execution_count": 68,
   "metadata": {},
   "outputs": [],
   "source": [
    "# Apply smote\n",
    "from imblearn.over_sampling import SMOTE\n",
    "\n",
    "sm = SMOTE(random_state=589)\n",
    "X,Y=sm.fit_sample(x,y)"
   ]
  },
  {
   "cell_type": "code",
   "execution_count": 69,
   "metadata": {},
   "outputs": [],
   "source": [
    "# Test-Train Split\n",
    "from sklearn.model_selection  import train_test_split\n",
    "x_train, x_test, y_train, y_test = train_test_split(X, Y, test_size = 0.20, random_state = 5)"
   ]
  },
  {
   "cell_type": "code",
   "execution_count": 70,
   "metadata": {},
   "outputs": [],
   "source": [
    "list_met=[]\n",
    "list_accuracy=[]\n",
    "# Applying all the algorithms"
   ]
  },
  {
   "cell_type": "code",
   "execution_count": 71,
   "metadata": {},
   "outputs": [],
   "source": [
    "# Apply Logistic Regression\n"
   ]
  },
  {
   "cell_type": "code",
   "execution_count": 72,
   "metadata": {},
   "outputs": [],
   "source": [
    "from sklearn.linear_model import LogisticRegression\n",
    "from sklearn.metrics import confusion_matrix, accuracy_score, f1_score, precision_score, recall_score\n",
    "\n",
    "classifier = LogisticRegression(C=0.4,max_iter=1000,solver='liblinear')\n",
    "lr=classifier.fit(x_train, y_train)\n",
    "#Preciction\n",
    "y_pred = classifier.predict(x_test)\n",
    "#Accuracy\n",
    "accuracy_LR= accuracy_score(y_test, y_pred)\n",
    "\n"
   ]
  },
  {
   "cell_type": "code",
   "execution_count": 73,
   "metadata": {},
   "outputs": [],
   "source": [
    "# Apply Decison Tree\n"
   ]
  },
  {
   "cell_type": "code",
   "execution_count": 74,
   "metadata": {},
   "outputs": [],
   "source": [
    "from sklearn.tree import DecisionTreeClassifier\n",
    "from sklearn.metrics import confusion_matrix, accuracy_score, f1_score, precision_score, recall_score\n",
    "\n",
    "classifier2 = DecisionTreeClassifier(random_state=14)\n",
    "dt=classifier2.fit(x_train, y_train)\n",
    "#Preciction\n",
    "y_pred2 = classifier2.predict(x_test)\n",
    "#Accuracy\n",
    "accuracy_DT= accuracy_score(y_test, y_pred2)\n"
   ]
  },
  {
   "cell_type": "code",
   "execution_count": 75,
   "metadata": {},
   "outputs": [],
   "source": [
    "# Apply Random Forest criteria=information gain"
   ]
  },
  {
   "cell_type": "code",
   "execution_count": 76,
   "metadata": {},
   "outputs": [],
   "source": [
    "from sklearn.ensemble import RandomForestClassifier\n",
    "from sklearn.metrics import confusion_matrix, accuracy_score, f1_score, precision_score, recall_score\n",
    "\n",
    "classifier3 = RandomForestClassifier(random_state=14)\n",
    "rfi=classifier3.fit(x_train, y_train)\n",
    "#Preciction\n",
    "y_pred3 = classifier3.predict(x_test)\n",
    "#Accuracy\n",
    "accuracy_RFI= accuracy_score(y_test, y_pred3)\n"
   ]
  },
  {
   "cell_type": "code",
   "execution_count": 77,
   "metadata": {},
   "outputs": [],
   "source": [
    "# Apply Random Forest criteria=entropy"
   ]
  },
  {
   "cell_type": "code",
   "execution_count": 78,
   "metadata": {},
   "outputs": [],
   "source": [
    "from sklearn.ensemble import RandomForestClassifier\n",
    "from sklearn.metrics import confusion_matrix, accuracy_score, f1_score, precision_score, recall_score\n",
    "\n",
    "classifier4 = RandomForestClassifier(criterion='entropy')\n",
    "rfe=classifier4.fit(x_train, y_train)\n",
    "#Preciction\n",
    "y_pred4 = classifier4.predict(x_test)\n",
    "#Accuracy\n",
    "accuracy_RFE= accuracy_score(y_test, y_pred4)\n"
   ]
  },
  {
   "cell_type": "code",
   "execution_count": 79,
   "metadata": {},
   "outputs": [],
   "source": [
    "# similarly apply SVM"
   ]
  },
  {
   "cell_type": "code",
   "execution_count": 80,
   "metadata": {},
   "outputs": [],
   "source": [
    "from sklearn.svm import SVC\n",
    "from sklearn.metrics import confusion_matrix, accuracy_score, f1_score, precision_score, recall_score\n",
    "\n",
    "model_svm = SVC(cache_size=100)\n",
    "svm=model_svm.fit(x_train, y_train)\n",
    "#Preciction\n",
    "y_pred5 = model_svm.predict(x_test)\n",
    "#Accuracy\n",
    "accuracy_svc= accuracy_score(y_test, y_pred5)\n"
   ]
  },
  {
   "cell_type": "code",
   "execution_count": 81,
   "metadata": {},
   "outputs": [],
   "source": [
    "# Apply KNN"
   ]
  },
  {
   "cell_type": "code",
   "execution_count": 82,
   "metadata": {},
   "outputs": [],
   "source": [
    "from sklearn.neighbors import KNeighborsClassifier\n",
    "from sklearn.metrics import confusion_matrix, accuracy_score, f1_score, precision_score, recall_score\n",
    "\n",
    "model_knn3 = KNeighborsClassifier(n_neighbors=3)\n",
    "knn=model_knn3.fit(x_train,y_train)\n",
    "# Predicting Test Set N=3\n",
    "pred_knn3= model_knn3.predict(x_test)\n",
    "#Accuracy\n",
    "accuracy_SVM = accuracy_score(y_test, pred_knn3)\n"
   ]
  },
  {
   "cell_type": "code",
   "execution_count": 83,
   "metadata": {},
   "outputs": [],
   "source": [
    "#Apply Gaussian Naive Bayes"
   ]
  },
  {
   "cell_type": "code",
   "execution_count": 84,
   "metadata": {},
   "outputs": [],
   "source": [
    "from sklearn.naive_bayes import GaussianNB\n",
    "from sklearn.metrics import confusion_matrix, accuracy_score, f1_score, precision_score, recall_score\n",
    "\n",
    "gnb = GaussianNB()\n",
    "gnb=gnb.fit(x_train, y_train)\n",
    "# Predicting Test Set\n",
    "pred_gnb = gnb.predict(x_test)\n",
    "#accuracy\n",
    "accuracy_GNB = accuracy_score(y_test, pred_gnb)\n"
   ]
  },
  {
   "cell_type": "code",
   "execution_count": 85,
   "metadata": {},
   "outputs": [],
   "source": [
    "#Apply Bernoulli Naive Bayes"
   ]
  },
  {
   "cell_type": "code",
   "execution_count": 86,
   "metadata": {},
   "outputs": [],
   "source": [
    "from sklearn.naive_bayes import BernoulliNB\n",
    "from sklearn.metrics import confusion_matrix, accuracy_score, f1_score, precision_score, recall_score\n",
    "\n",
    "model = BernoulliNB()\n",
    "bnb=model.fit(x_train, y_train)\n",
    "# Predicting Test Set\n",
    "pred_bnb = model.predict(x_test)\n",
    "#accuracy\n",
    "accuracy_BNB = accuracy_score(y_test, pred_bnb)\n"
   ]
  },
  {
   "cell_type": "code",
   "execution_count": 87,
   "metadata": {},
   "outputs": [],
   "source": [
    "# Combining all the above using voting classifier"
   ]
  },
  {
   "cell_type": "code",
   "execution_count": 88,
   "metadata": {},
   "outputs": [],
   "source": [
    "from sklearn.ensemble import VotingClassifier\n",
    "\n",
    "evc=VotingClassifier(estimators=[('lr', lr), ('rfi', rfi),('rfe', rfe), ('DT', dt),\n",
    "                                 ('svm',svm),('knn',knn),('gnb',gnb),('bnb',bnb)],voting='hard',\n",
    "                                 flatten_transform=True)\n",
    "\n",
    "model_evc=evc.fit(x_train, y_train)\n",
    "# Predicting Test Set\n",
    "pred_evc = evc.predict(x_test)\n",
    "#accuracy\n",
    "accuracy_evc = accuracy_score(y_test, pred_gnb)\n"
   ]
  },
  {
   "cell_type": "code",
   "execution_count": 89,
   "metadata": {},
   "outputs": [],
   "source": [
    "list1=['Logistic Regression','Decison Tree','Random Forest(information gain)','Random Forest(Entropy)','SVM','KNN','gnb','bnb','voting classifier']"
   ]
  },
  {
   "cell_type": "code",
   "execution_count": 90,
   "metadata": {},
   "outputs": [],
   "source": [
    "list2=[accuracy_LR,accuracy_DT,accuracy_RFI,accuracy_RFE,accuracy_svc,accuracy_SVM,accuracy_GNB,accuracy_BNB,accuracy_evc]\n",
    "list3=[classifier,classifier2,classifier3,classifier4,model_svm,model_knn3,gnb,model]"
   ]
  },
  {
   "cell_type": "code",
   "execution_count": 91,
   "metadata": {},
   "outputs": [
    {
     "name": "stdout",
     "output_type": "stream",
     "text": [
      "                       Method Used  Accuracy\n",
      "0              Logistic Regression  0.736318\n",
      "1                     Decison Tree  0.756219\n",
      "2  Random Forest(information gain)  0.756219\n",
      "3           Random Forest(Entropy)  0.766169\n",
      "4                              SVM  0.726368\n",
      "5                              KNN  0.711443\n",
      "6                              gnb  0.706468\n",
      "7                              bnb  0.467662\n",
      "8                voting classifier  0.706468\n"
     ]
    }
   ],
   "source": [
    "df_Accuracy=pd.DataFrame({'Method Used':list1,'Accuracy': list2})\n",
    "print(df_Accuracy)"
   ]
  },
  {
   "cell_type": "code",
   "execution_count": 92,
   "metadata": {},
   "outputs": [
    {
     "name": "stdout",
     "output_type": "stream",
     "text": [
      "AxesSubplot(0.125,0.125;0.775x0.755)\n"
     ]
    },
    {
     "data": {
      "image/png": "[encoded data removed]",
      "text/plain": [
       "<Figure size 432x288 with 1 Axes>"
      ]
     },
     "metadata": {
      "needs_background": "light"
     },
     "output_type": "display_data"
    }
   ],
   "source": [
    "chart=sns.barplot(x='Method Used',y='Accuracy',data=df_Accuracy)\n",
    "chart.set_xticklabels(chart.get_xticklabels(), rotation=90)\n",
    "print(chart)"
   ]
  },
  {
   "cell_type": "code",
   "execution_count": 99,
   "metadata": {},
   "outputs": [
    {
     "name": "stdout",
     "output_type": "stream",
     "text": [
      "Doesnt look good,Please confirm with doctor\n",
      "our output is accurate by: 76.61691542288557%\n",
      "time to calculate: 0.03799271583557129 mili Seconds\n"
     ]
    }
   ],
   "source": [
    "# Creating input\n",
    "\n",
    "import pandas as pd\n",
    "import random\n",
    "import time\n",
    "\n",
    "\n",
    "list_preg=[]\n",
    "list_gluc=[]\n",
    "list_blood_pressure=[]\n",
    "list_skin_thickness=[]\n",
    "list_insulin=[]\n",
    "list_bmi=[]\n",
    "list_age=[]\n",
    "list_pedigree=[]\n",
    "\n",
    "def prediction():\n",
    "    '''\n",
    "    input1=input(\"Enter no. of Pregnencies :\")\n",
    "    input2=input(\"Enter glucose level :\")\n",
    "    input3=input(\"Enter blood pressure :\")\n",
    "    input4=input(\"Enter skin thickness :\")\n",
    "    input5=input(\"Enter insulin level :\")\n",
    "    input6=input(\"Enter bmi :\")\n",
    "    input7=input(\"Enter age :\")\n",
    "    '''\n",
    "    input1= random.randrange(0, 41)     #Number of times pregenant\n",
    "    input2= random.randrange(0, 201)    #Gloucouse level\n",
    "    input3= random.randrange(0, 111)     #Average heart level\n",
    "    input4= random.randrange(1, 60)     #Skin thickness\n",
    "    input5= random.randrange(0, 251)     #Insuline level\n",
    "    input6= random.randrange(15, 46)     #BMI\n",
    "    input7= random.randrange(1, 101)    #Age\n",
    "    \n",
    "    start = time.time()\n",
    "\n",
    "\n",
    "    list_preg.append(input1)\n",
    "    list_gluc.append(input2)\n",
    "    list_blood_pressure.append(input3)\n",
    "    list_skin_thickness.append(input4)\n",
    "    list_insulin.append(input5)\n",
    "    list_bmi.append(input6)\n",
    "    list_age.append(input7)\n",
    "\n",
    "\n",
    "    input_df=pd.DataFrame({\"Enter no. of Pregnencies :\":list_preg , \"Enter glucose level :\":list_gluc ,\n",
    "                              \"Enter blood pressure :\":list_blood_pressure , \"Enter skin thickness :\":list_skin_thickness ,\n",
    "                             \"Enter insulin level :\":list_insulin , \"Enter bmi :\":list_bmi , \"Enter age :\":list_age\n",
    "                             })\n",
    "    \n",
    "    max_acc=max(list2)\n",
    "    \n",
    "    for i in range(0,len(list2)):\n",
    "        if(list2[i]==max_acc):\n",
    "            sel_model=list3[i]\n",
    "            \n",
    "    prediction=sel_model.predict(input_df)\n",
    "\n",
    "    if(prediction==0):\n",
    "        print(\"You are safe\")\n",
    "        print('our output is accurate by: ' + str(max_acc*100)+'%')\n",
    "\n",
    "    elif(prediction==1):\n",
    "        print(\"Doesnt look good,Please confirm with doctor\")\n",
    "        print('our output is accurate by: ' + str(max_acc*100)+'%')\n",
    "        \n",
    "    end = time.time()\n",
    "    \n",
    "    print('time to calculate: '+str(end- start)+' mili Seconds')\n",
    "    \n",
    "prediction()"
   ]
  },
  {
   "cell_type": "code",
   "execution_count": 100,
   "metadata": {},
   "outputs": [
    {
     "name": "stdout",
     "output_type": "stream",
     "text": [
      "Do you have Diabetes?:0\n",
      "     Pregnancies  Glucose  BloodPressure  SkinThickness  Insulin   BMI  Age  \\\n",
      "765            5      121             72             23      112  26.2   30   \n",
      "766            1      126             60              0        0  30.1   47   \n",
      "767            1       93             70             31        0  30.4   23   \n",
      "768            5      139              5              8      127  27.0   33   \n",
      "0              1      148             56             47      177  42.0   37   \n",
      "\n",
      "    Outcome  \n",
      "765       0  \n",
      "766       1  \n",
      "767       0  \n",
      "768       0  \n",
      "0         0  \n"
     ]
    }
   ],
   "source": [
    "import csv \n",
    "\n",
    "input_out=input(\"Do you have Diabetes?:\")\n",
    "\n",
    "list_out=[]\n",
    "list_out.append(input_out)\n",
    "\n",
    "final_df=pd.DataFrame({\"Pregnancies\":list_preg , \"Glucose\":list_gluc ,\n",
    "                              \"BloodPressure\":list_blood_pressure , \"SkinThickness\":list_skin_thickness ,\n",
    "                             \"Insulin\":list_insulin , \"BMI\":list_bmi , \"Age\":list_age,\"Outcome\":list_out\n",
    "                             })\n",
    "\n",
    "initial_df=df\n",
    "df_final=pd.concat([initial_df,final_df],axis=0)\n",
    "print(df_final.tail())\n",
    "df_final.to_csv(\"user_outputs.csv\",index=False)"
   ]
  },
  {
   "cell_type": "code",
   "execution_count": null,
   "metadata": {},
   "outputs": [],
   "source": []
  },
  {
   "cell_type": "code",
   "execution_count": null,
   "metadata": {},
   "outputs": [],
   "source": []
  }
 ],
 "metadata": {
  "kernelspec": {
   "display_name": "Python 3",
   "language": "python",
   "name": "python3"
  },
  "language_info": {
   "codemirror_mode": {
    "name": "ipython",
    "version": 3
   },
   "file_extension": ".py",
   "mimetype": "text/x-python",
   "name": "python",
   "nbconvert_exporter": "python",
   "pygments_lexer": "ipython3",
   "version": "3.7.4"
  }
 },
 "nbformat": 4,
 "nbformat_minor": 2
}
